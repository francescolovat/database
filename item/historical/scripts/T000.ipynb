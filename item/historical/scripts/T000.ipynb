{
 "cells": [
  {
   "cell_type": "code",
   "execution_count": 1,
   "metadata": {},
   "outputs": [],
   "source": [
    "import pandas as pd\n",
    "from pprint import pprint\n",
    "from item.historical.scripts.util.managers.dataframe import DataframeManager\n",
    "from item.historical.scripts.util.managers.dataframe import ColumnName\n",
    "from item.historical.scripts.util.managers.country_code import CountryCodeManager\n",
    "from item.common import paths"
   ]
  },
  {
   "cell_type": "markdown",
   "metadata": {},
   "source": [
    "# Variables used across the notebook"
   ]
  },
  {
   "cell_type": "code",
   "execution_count": 2,
   "metadata": {},
   "outputs": [],
   "source": [
    "# Creating a dataframe from the csv data\n",
    "DATASET_ID = \"T000\"\n",
    "dataframeManager = DataframeManager(DATASET_ID)\n",
    "countryCodeManager = CountryCodeManager()"
   ]
  },
  {
   "cell_type": "markdown",
   "metadata": {},
   "source": [
    "# Opening the dataset"
   ]
  },
  {
   "cell_type": "code",
   "execution_count": 3,
   "metadata": {},
   "outputs": [
    {
     "data": {
      "text/html": [
       "<div>\n",
       "<style scoped>\n",
       "    .dataframe tbody tr th:only-of-type {\n",
       "        vertical-align: middle;\n",
       "    }\n",
       "\n",
       "    .dataframe tbody tr th {\n",
       "        vertical-align: top;\n",
       "    }\n",
       "\n",
       "    .dataframe thead th {\n",
       "        text-align: right;\n",
       "    }\n",
       "</style>\n",
       "<table border=\"1\" class=\"dataframe\">\n",
       "  <thead>\n",
       "    <tr style=\"text-align: right;\">\n",
       "      <th></th>\n",
       "      <th>COUNTRY</th>\n",
       "      <th>Country</th>\n",
       "      <th>VARIABLE</th>\n",
       "      <th>Variable</th>\n",
       "      <th>YEAR</th>\n",
       "      <th>Year</th>\n",
       "      <th>Unit Code</th>\n",
       "      <th>Unit</th>\n",
       "      <th>PowerCode Code</th>\n",
       "      <th>PowerCode</th>\n",
       "      <th>Reference Period Code</th>\n",
       "      <th>Reference Period</th>\n",
       "      <th>Value</th>\n",
       "      <th>Flag Codes</th>\n",
       "      <th>Flags</th>\n",
       "    </tr>\n",
       "  </thead>\n",
       "  <tbody>\n",
       "    <tr>\n",
       "      <th>0</th>\n",
       "      <td>UKR</td>\n",
       "      <td>Ukraine</td>\n",
       "      <td>T-PASS-RD-BUS</td>\n",
       "      <td>Road passenger transport by buses and coaches</td>\n",
       "      <td>1990</td>\n",
       "      <td>1990</td>\n",
       "      <td>PKM</td>\n",
       "      <td>Passenger-kilometres</td>\n",
       "      <td>6</td>\n",
       "      <td>Millions</td>\n",
       "      <td>NaN</td>\n",
       "      <td>NaN</td>\n",
       "      <td>90323.00000</td>\n",
       "      <td>NaN</td>\n",
       "      <td>NaN</td>\n",
       "    </tr>\n",
       "    <tr>\n",
       "      <th>1</th>\n",
       "      <td>UKR</td>\n",
       "      <td>Ukraine</td>\n",
       "      <td>T-PASS-RD-BUS</td>\n",
       "      <td>Road passenger transport by buses and coaches</td>\n",
       "      <td>1991</td>\n",
       "      <td>1991</td>\n",
       "      <td>PKM</td>\n",
       "      <td>Passenger-kilometres</td>\n",
       "      <td>6</td>\n",
       "      <td>Millions</td>\n",
       "      <td>NaN</td>\n",
       "      <td>NaN</td>\n",
       "      <td>82691.00000</td>\n",
       "      <td>NaN</td>\n",
       "      <td>NaN</td>\n",
       "    </tr>\n",
       "    <tr>\n",
       "      <th>2</th>\n",
       "      <td>UKR</td>\n",
       "      <td>Ukraine</td>\n",
       "      <td>T-PASS-RD-BUS</td>\n",
       "      <td>Road passenger transport by buses and coaches</td>\n",
       "      <td>1992</td>\n",
       "      <td>1992</td>\n",
       "      <td>PKM</td>\n",
       "      <td>Passenger-kilometres</td>\n",
       "      <td>6</td>\n",
       "      <td>Millions</td>\n",
       "      <td>NaN</td>\n",
       "      <td>NaN</td>\n",
       "      <td>69357.00000</td>\n",
       "      <td>NaN</td>\n",
       "      <td>NaN</td>\n",
       "    </tr>\n",
       "    <tr>\n",
       "      <th>3</th>\n",
       "      <td>UKR</td>\n",
       "      <td>Ukraine</td>\n",
       "      <td>T-PASS-RD-BUS</td>\n",
       "      <td>Road passenger transport by buses and coaches</td>\n",
       "      <td>1993</td>\n",
       "      <td>1993</td>\n",
       "      <td>PKM</td>\n",
       "      <td>Passenger-kilometres</td>\n",
       "      <td>6</td>\n",
       "      <td>Millions</td>\n",
       "      <td>NaN</td>\n",
       "      <td>NaN</td>\n",
       "      <td>47142.00000</td>\n",
       "      <td>NaN</td>\n",
       "      <td>NaN</td>\n",
       "    </tr>\n",
       "    <tr>\n",
       "      <th>4</th>\n",
       "      <td>UKR</td>\n",
       "      <td>Ukraine</td>\n",
       "      <td>T-PASS-RD-BUS</td>\n",
       "      <td>Road passenger transport by buses and coaches</td>\n",
       "      <td>1994</td>\n",
       "      <td>1994</td>\n",
       "      <td>PKM</td>\n",
       "      <td>Passenger-kilometres</td>\n",
       "      <td>6</td>\n",
       "      <td>Millions</td>\n",
       "      <td>NaN</td>\n",
       "      <td>NaN</td>\n",
       "      <td>39952.00000</td>\n",
       "      <td>NaN</td>\n",
       "      <td>NaN</td>\n",
       "    </tr>\n",
       "    <tr>\n",
       "      <th>...</th>\n",
       "      <td>...</td>\n",
       "      <td>...</td>\n",
       "      <td>...</td>\n",
       "      <td>...</td>\n",
       "      <td>...</td>\n",
       "      <td>...</td>\n",
       "      <td>...</td>\n",
       "      <td>...</td>\n",
       "      <td>...</td>\n",
       "      <td>...</td>\n",
       "      <td>...</td>\n",
       "      <td>...</td>\n",
       "      <td>...</td>\n",
       "      <td>...</td>\n",
       "      <td>...</td>\n",
       "    </tr>\n",
       "    <tr>\n",
       "      <th>9221</th>\n",
       "      <td>ARG</td>\n",
       "      <td>Argentina</td>\n",
       "      <td>T-PASS-TOT-INLD</td>\n",
       "      <td>Total inland passenger transport</td>\n",
       "      <td>2013</td>\n",
       "      <td>2013</td>\n",
       "      <td>PKM</td>\n",
       "      <td>Passenger-kilometres</td>\n",
       "      <td>6</td>\n",
       "      <td>Millions</td>\n",
       "      <td>NaN</td>\n",
       "      <td>NaN</td>\n",
       "      <td>47955.53068</td>\n",
       "      <td>NaN</td>\n",
       "      <td>NaN</td>\n",
       "    </tr>\n",
       "    <tr>\n",
       "      <th>9222</th>\n",
       "      <td>ARG</td>\n",
       "      <td>Argentina</td>\n",
       "      <td>T-PASS-TOT-INLD</td>\n",
       "      <td>Total inland passenger transport</td>\n",
       "      <td>2014</td>\n",
       "      <td>2014</td>\n",
       "      <td>PKM</td>\n",
       "      <td>Passenger-kilometres</td>\n",
       "      <td>6</td>\n",
       "      <td>Millions</td>\n",
       "      <td>NaN</td>\n",
       "      <td>NaN</td>\n",
       "      <td>49094.90265</td>\n",
       "      <td>NaN</td>\n",
       "      <td>NaN</td>\n",
       "    </tr>\n",
       "    <tr>\n",
       "      <th>9223</th>\n",
       "      <td>ARG</td>\n",
       "      <td>Argentina</td>\n",
       "      <td>T-PASS-TOT-INLD</td>\n",
       "      <td>Total inland passenger transport</td>\n",
       "      <td>2015</td>\n",
       "      <td>2015</td>\n",
       "      <td>PKM</td>\n",
       "      <td>Passenger-kilometres</td>\n",
       "      <td>6</td>\n",
       "      <td>Millions</td>\n",
       "      <td>NaN</td>\n",
       "      <td>NaN</td>\n",
       "      <td>51422.02431</td>\n",
       "      <td>NaN</td>\n",
       "      <td>NaN</td>\n",
       "    </tr>\n",
       "    <tr>\n",
       "      <th>9224</th>\n",
       "      <td>ARG</td>\n",
       "      <td>Argentina</td>\n",
       "      <td>T-PASS-TOT-INLD</td>\n",
       "      <td>Total inland passenger transport</td>\n",
       "      <td>2016</td>\n",
       "      <td>2016</td>\n",
       "      <td>PKM</td>\n",
       "      <td>Passenger-kilometres</td>\n",
       "      <td>6</td>\n",
       "      <td>Millions</td>\n",
       "      <td>NaN</td>\n",
       "      <td>NaN</td>\n",
       "      <td>54904.03347</td>\n",
       "      <td>NaN</td>\n",
       "      <td>NaN</td>\n",
       "    </tr>\n",
       "    <tr>\n",
       "      <th>9225</th>\n",
       "      <td>ARG</td>\n",
       "      <td>Argentina</td>\n",
       "      <td>T-PASS-TOT-INLD</td>\n",
       "      <td>Total inland passenger transport</td>\n",
       "      <td>2017</td>\n",
       "      <td>2017</td>\n",
       "      <td>PKM</td>\n",
       "      <td>Passenger-kilometres</td>\n",
       "      <td>6</td>\n",
       "      <td>Millions</td>\n",
       "      <td>NaN</td>\n",
       "      <td>NaN</td>\n",
       "      <td>57145.13339</td>\n",
       "      <td>NaN</td>\n",
       "      <td>NaN</td>\n",
       "    </tr>\n",
       "  </tbody>\n",
       "</table>\n",
       "<p>9226 rows × 15 columns</p>\n",
       "</div>"
      ],
      "text/plain": [
       "     COUNTRY    Country         VARIABLE  \\\n",
       "0        UKR    Ukraine    T-PASS-RD-BUS   \n",
       "1        UKR    Ukraine    T-PASS-RD-BUS   \n",
       "2        UKR    Ukraine    T-PASS-RD-BUS   \n",
       "3        UKR    Ukraine    T-PASS-RD-BUS   \n",
       "4        UKR    Ukraine    T-PASS-RD-BUS   \n",
       "...      ...        ...              ...   \n",
       "9221     ARG  Argentina  T-PASS-TOT-INLD   \n",
       "9222     ARG  Argentina  T-PASS-TOT-INLD   \n",
       "9223     ARG  Argentina  T-PASS-TOT-INLD   \n",
       "9224     ARG  Argentina  T-PASS-TOT-INLD   \n",
       "9225     ARG  Argentina  T-PASS-TOT-INLD   \n",
       "\n",
       "                                           Variable  YEAR  Year Unit Code  \\\n",
       "0     Road passenger transport by buses and coaches  1990  1990       PKM   \n",
       "1     Road passenger transport by buses and coaches  1991  1991       PKM   \n",
       "2     Road passenger transport by buses and coaches  1992  1992       PKM   \n",
       "3     Road passenger transport by buses and coaches  1993  1993       PKM   \n",
       "4     Road passenger transport by buses and coaches  1994  1994       PKM   \n",
       "...                                             ...   ...   ...       ...   \n",
       "9221               Total inland passenger transport  2013  2013       PKM   \n",
       "9222               Total inland passenger transport  2014  2014       PKM   \n",
       "9223               Total inland passenger transport  2015  2015       PKM   \n",
       "9224               Total inland passenger transport  2016  2016       PKM   \n",
       "9225               Total inland passenger transport  2017  2017       PKM   \n",
       "\n",
       "                      Unit  PowerCode Code PowerCode  Reference Period Code  \\\n",
       "0     Passenger-kilometres               6  Millions                    NaN   \n",
       "1     Passenger-kilometres               6  Millions                    NaN   \n",
       "2     Passenger-kilometres               6  Millions                    NaN   \n",
       "3     Passenger-kilometres               6  Millions                    NaN   \n",
       "4     Passenger-kilometres               6  Millions                    NaN   \n",
       "...                    ...             ...       ...                    ...   \n",
       "9221  Passenger-kilometres               6  Millions                    NaN   \n",
       "9222  Passenger-kilometres               6  Millions                    NaN   \n",
       "9223  Passenger-kilometres               6  Millions                    NaN   \n",
       "9224  Passenger-kilometres               6  Millions                    NaN   \n",
       "9225  Passenger-kilometres               6  Millions                    NaN   \n",
       "\n",
       "      Reference Period        Value Flag Codes Flags  \n",
       "0                  NaN  90323.00000        NaN   NaN  \n",
       "1                  NaN  82691.00000        NaN   NaN  \n",
       "2                  NaN  69357.00000        NaN   NaN  \n",
       "3                  NaN  47142.00000        NaN   NaN  \n",
       "4                  NaN  39952.00000        NaN   NaN  \n",
       "...                ...          ...        ...   ...  \n",
       "9221               NaN  47955.53068        NaN   NaN  \n",
       "9222               NaN  49094.90265        NaN   NaN  \n",
       "9223               NaN  51422.02431        NaN   NaN  \n",
       "9224               NaN  54904.03347        NaN   NaN  \n",
       "9225               NaN  57145.13339        NaN   NaN  \n",
       "\n",
       "[9226 rows x 15 columns]"
      ]
     },
     "execution_count": 3,
     "metadata": {},
     "output_type": "execute_result"
    }
   ],
   "source": [
    "path = paths['data']/'historical'/'input'/'T000_input.csv'\n",
    "df = pd.read_csv(path)\n",
    "df"
   ]
  },
  {
   "cell_type": "markdown",
   "metadata": {},
   "source": [
    "# Determining data consistency for the column \"Variable\"\n",
    "### Rationale: The variable \"Road Passenger Transport\" is the sum of \"RPT by buses and coaches\" + \"RPT by passenger car\". Therefore, to we need to identify for each country in what years the variables \"Road Passenger Transport\" is present but one if its components is missing."
   ]
  },
  {
   "cell_type": "code",
   "execution_count": null,
   "metadata": {},
   "outputs": [],
   "source": [
    "# Getting the list of countries and grouping the df by country\n",
    "group_by_country = df.groupby(df[\"Country\"])\n",
    "list_of_countries = list(set(df[\"Country\"]))\n",
    "\n",
    "# Determining the available variables per country\n",
    "dic_country_df = {}\n",
    "for name, group in group_by_country:\n",
    "    dic_country_df[name] = group\n",
    "    \n",
    "# For each country, store the years that generate problems\n",
    "result_per_country = {}\n",
    "for country in list_of_countries:\n",
    "    \n",
    "    # Get the dataframe corresponding to country X\n",
    "    df_for_country_x = dic_country_df[country]\n",
    "    \n",
    "    # Get the years available to the country X\n",
    "    years_for_country_x = list(set(df_for_country_x.Year))\n",
    "    \n",
    "    # group the dataframe of the country X based on year\n",
    "    country_x_grouped_by_year = df_for_country_x.groupby(df_for_country_x.Year)\n",
    "    \n",
    "    # Creating a variable for holding the number of variables per year\n",
    "    dic_problematic_years = []\n",
    "    \n",
    "    # For each year of country X, identify the number of variables\n",
    "    for year in years_for_country_x:\n",
    "        \n",
    "        # get the group of year Y\n",
    "        df_year_Y_country_X = country_x_grouped_by_year.get_group(year)\n",
    "        \n",
    "        # get the list of variables available in year Y\n",
    "        variables_available_in_year_y = list(df_year_Y_country_X[\"Variable\"])\n",
    "        \n",
    "        if \"Road passenger transport\" in variables_available_in_year_y:\n",
    "            if \"Road passenger transport by buses and coaches\" in variables_available_in_year_y and \"Road passenger transport by passenger cars\" in variables_available_in_year_y:\n",
    "                continue\n",
    "            else:\n",
    "                dic_problematic_years.append(year)\n",
    "    \n",
    "    # Save the problematic data for the year\n",
    "    if len(dic_problematic_years) > 0:\n",
    "        result_per_country[country] = dic_problematic_years\n",
    "\n",
    "pprint(result_per_country)"
   ]
  },
  {
   "cell_type": "markdown",
   "metadata": {},
   "source": [
    "## The results from the above cell demonstrates that there are 22 countries that for certain years have missing data. Below are the rules on how to handle each country:\n",
    "\n",
    "###  Rule #1: The following countries keep them as they are: Bosnia-Herzegovina, China, Croatia, Estonia, Georgia, India, Latvia, Mexico, Moldova, Montenegro, Republic of, Romania, Turkey, Ukraine.\n",
    "\n",
    "### Rule #2: Perform the following operations for each country:\n",
    "    - Albania: Remove the \"Road passenger transport\" & \"Road passenger transport by buses and coaches\" categories during the problematic time periods.\n",
    "    - Armenia: Remove the \"Road passenger transport\" category during the problematic time periods.\n",
    "    - Azerbaijan: Remove the \"Road passenger transport\" category during the problematic time periods.\n",
    "    - Belarus: Remove the \"Road passenger transport\" category during the problematic time periods.\n",
    "    - Bulgaria: Remove the \"Road passenger transport\" category during the problematic time periods.\n",
    "    - Canada: Remove the \"Road passenger transport\" category during the problematic time periods.\n",
    "    - Russian Federation: Remove the \"Road passenger transport\" category during the problematic time periods.\n",
    "    - Switzerland: Remove the \"Road passenger transport\" category during the problematic time periods.\n",
    "    - United States: Remove the \"Road passenger transport\" category during the problematic time periods."
   ]
  },
  {
   "cell_type": "markdown",
   "metadata": {},
   "source": [
    "## Applying Rule#2 to handle all the problematic countries"
   ]
  },
  {
   "cell_type": "code",
   "execution_count": null,
   "metadata": {},
   "outputs": [],
   "source": [
    "# Getting the countries to handle\n",
    "list_of_countries_that_need_cleaning = ['Albania', 'Armenia', 'Azerbaijan', 'Belarus', 'Bulgaria', 'Canada', 'Russian Federation', 'Switzerland', 'United States']\n",
    "\n",
    "# Storing the variable to erase\n",
    "variable_to_erase = \"Road passenger transport\"\n",
    "\n",
    "# For each country that needs cleaning, do the following\n",
    "list_of_indices_to_erase = []\n",
    "for country in list_of_countries_that_need_cleaning:\n",
    "    \n",
    "    # Get the dataframe for the country\n",
    "    country_to_clean_df = group_by_country.get_group(country)\n",
    "    \n",
    "    # Get the list of \"dirty\" years for the given country\n",
    "    list_of_dirty_years_for_country_x = result_per_country[country]\n",
    "    \n",
    "    # For each dirty year, perform the following code\n",
    "    for year in list_of_dirty_years_for_country_x:\n",
    "        filtered_for_desired_rows = country_to_clean_df[(country_to_clean_df.Variable == variable_to_erase) & (country_to_clean_df.Year == year)]\n",
    "        list_of_indices_to_erase = list_of_indices_to_erase + list(filtered_for_desired_rows.index)\n",
    "        \n",
    "        if country == 'Albania':\n",
    "            albania_specific_bus_row = country_to_clean_df[(country_to_clean_df.Variable == \"Road passenger transport by buses and coaches\") & (country_to_clean_df.Year == year)]\n",
    "            list_of_indices_to_erase = list_of_indices_to_erase + list(albania_specific_bus_row.index)"
   ]
  },
  {
   "cell_type": "code",
   "execution_count": null,
   "metadata": {},
   "outputs": [],
   "source": [
    "# Drop all the indices\n",
    "df.drop(list_of_indices_to_erase, inplace=True)"
   ]
  },
  {
   "cell_type": "code",
   "execution_count": null,
   "metadata": {},
   "outputs": [],
   "source": [
    "# Group by country since we recently erased rows\n",
    "group_by_country = df.groupby(df.Country)\n",
    "\n",
    "# Determining the available variables per country\n",
    "dic_country = {}\n",
    "for name, group in group_by_country:\n",
    "    local = {}\n",
    "    local[\"Variables\"] = set(group.Variable)\n",
    "    local[\"Number of Vars\"] = len(set(group.Variable))\n",
    "    dic_country[name] = local"
   ]
  },
  {
   "cell_type": "code",
   "execution_count": null,
   "metadata": {},
   "outputs": [],
   "source": [
    "# Five is the max number of variables a country can have. So,check what countries have less than 5\n",
    "dic_special_countries = {}\n",
    "\n",
    "# Filtering the countries\n",
    "for country in dic_country.keys():\n",
    "    # Getting the number of variables for each country\n",
    "    if dic_country[country][\"Number of Vars\"] < 5:\n",
    "        dic_special_countries[country] = dic_country[country]\n",
    "\n",
    "# Printing the result\n",
    "pprint(dic_special_countries)"
   ]
  },
  {
   "cell_type": "markdown",
   "metadata": {},
   "source": [
    "### NOTE:  Based on the analysis done above, we discovered that 17 countries are missing variables and thus it is necessary to handle such countries.\n",
    "\n",
    "### Rule 1: Countries having 1 or 3 variables are left as is. Therefore, the following countries are left as is: \n",
    "    China, Georgia, India, Ireland, Israel, Liechtenstein, Luxembourg, Montenegro, Turkey.\n",
    "    \n",
    "### Rule 2: To countries containing 4 variables we will the following two variables:  <i>Road Passenger Transport</i>  & <i>Total Inland Passenger Transport</i>. Below are the counties to which such variables are erased:\n",
    "    Bosnia-Herzegovina, Croatia, Estonia, Latvia, Mexico, Maldova, Romania, Ukraine\n",
    "\n"
   ]
  },
  {
   "cell_type": "markdown",
   "metadata": {},
   "source": [
    "# Applying the Rules for data consistency"
   ]
  },
  {
   "cell_type": "code",
   "execution_count": null,
   "metadata": {},
   "outputs": [],
   "source": [
    "# Variables to erase\n",
    "variables_to_erase = [\"Road passenger transport\", \"Total inland passenger transport\"]\n",
    "\n",
    "# Gathering the list of countries to which we need to erase variables\n",
    "countries_to_erase_variables = []\n",
    "for key in dic_special_countries.keys():\n",
    "    if dic_special_countries[key][\"Number of Vars\"] == 4:\n",
    "        countries_to_erase_variables.append(key)\n",
    "\n",
    "# List of index to erase\n",
    "index_to_erase = []\n",
    "\n",
    "# For each row of the countries of interest, determine the indices that need to be erased\n",
    "for country in countries_to_erase_variables:\n",
    "    df_for_X_country = group_by_country.get_group(country)\n",
    "    filtered_for_desired_rows = df_for_X_country[(df_for_X_country.Variable == variables_to_erase[0])|(df_for_X_country.Variable == variables_to_erase[1])]\n",
    "    index_to_erase = index_to_erase + list(filtered_for_desired_rows.index)\n",
    "\n",
    "# Erasing from the dataframe the indices selected\n",
    "df.drop(index_to_erase, inplace=True)"
   ]
  },
  {
   "cell_type": "markdown",
   "metadata": {},
   "source": [
    "# Dropping unnecessary columns\n",
    "### Rule: To comply with the latest template, we are dropping repeated columns and renaming others."
   ]
  },
  {
   "cell_type": "code",
   "execution_count": null,
   "metadata": {},
   "outputs": [],
   "source": [
    "# Droping the repeated columns\n",
    "columns_to_delete = [\"COUNTRY\", \"YEAR\", \"VARIABLE\",\"Reference Period Code\",\"Unit Code\",\"Reference Period\", \"Flag Codes\", \"Flags\", \"PowerCode Code\"]\n",
    "df.drop(columns=columns_to_delete, inplace = True)"
   ]
  },
  {
   "cell_type": "markdown",
   "metadata": {},
   "source": [
    "# Adding the 'Source' column\n",
    "### Rule: Add the same source to all rows since all data comes from same source"
   ]
  },
  {
   "cell_type": "code",
   "execution_count": null,
   "metadata": {},
   "outputs": [],
   "source": [
    "dataframeManager.simple_column_insert(df,ColumnName.SOURCE.value,\"International Transport Forum\")\n",
    "df"
   ]
  },
  {
   "cell_type": "markdown",
   "metadata": {},
   "source": [
    "# Adding the 'Service' column\n",
    "### Rule: Since all the data is associated to passenger data, the service for all rows corresponds to 'Passenger'"
   ]
  },
  {
   "cell_type": "code",
   "execution_count": null,
   "metadata": {},
   "outputs": [],
   "source": [
    "dataframeManager.simple_column_insert(df,ColumnName.SERVICE.value,\"Passenger\")\n",
    "df"
   ]
  },
  {
   "cell_type": "markdown",
   "metadata": {},
   "source": [
    "# Adding the 'Mode' and 'Vehicle_type' Columns\n",
    "### Rule: We use keywords from the values on the \"Variable\" column to determine the 'Mode' and 'Vehicle' type."
   ]
  },
  {
   "cell_type": "code",
   "execution_count": null,
   "metadata": {},
   "outputs": [],
   "source": [
    "# For each row, we are going to read the value in the \"Variable\" column and decide on the \"Mode\" and \"Vehicle_Type\"\n",
    "list_vehicle_type = []\n",
    "list_mode = []\n",
    "\n",
    "# Looping through each row, reading the value in 'Variable' column and deciding on the \"Mode\" and \"Vehicle_type\"\n",
    "for index, row in df.iterrows():\n",
    "    \n",
    "    # Determining the mode and vehicle type\n",
    "    if \"Rail\" in row.Variable:\n",
    "        list_mode.append(\"Rail\")\n",
    "        list_vehicle_type.append(\"All\")\n",
    "        \n",
    "    elif \"Road\" in row.Variable:\n",
    "        list_mode.append(\"Road\")\n",
    "        \n",
    "        if \"by buses\" in row.Variable:\n",
    "            list_vehicle_type.append(\"Bus\")\n",
    "        elif \"by passenger\" in row.Variable:\n",
    "            list_vehicle_type.append(\"LDV\")\n",
    "        else:\n",
    "            list_vehicle_type.append(\"All\")\n",
    "        \n",
    "    else:\n",
    "        list_mode.append(\"All\")\n",
    "        list_vehicle_type.append(\"All\")\n",
    "        \n",
    "# Assert that the lenght of the new columns is the same as the length of the dataframe\n",
    "assert len(df) == len(list_vehicle_type) and len(df) == len(list_mode)\n",
    "\n",
    "# Adding the \"Mode\" and \"Vehicle type\" to the dataframe\n",
    "df[ColumnName.MODE.value] = list_mode\n",
    "df[ColumnName.VEHICLE_TYPE.value] = list_vehicle_type\n",
    "df"
   ]
  },
  {
   "cell_type": "markdown",
   "metadata": {},
   "source": [
    "# Adding the 'Fuel' and 'Technology' column\n",
    "### Rule: The dataset does not provide any data about those two columns, so we added the default value in both cases"
   ]
  },
  {
   "cell_type": "code",
   "execution_count": null,
   "metadata": {},
   "outputs": [],
   "source": [
    "# Adding the \"Technology\" and \"Fuel\" columns\n",
    "dataframeManager.simple_column_insert(df,ColumnName.TECHNOLOGY.value,\"All\")\n",
    "dataframeManager.simple_column_insert(df,ColumnName.FUEL.value,\"All\")\n",
    "df"
   ]
  },
  {
   "cell_type": "markdown",
   "metadata": {},
   "source": [
    "# Managing the 'Unit' column\n",
    "### Rule: The data provides values in Million so we are converting it to Billion. Additionally, we set the correct name for the unit based on the template"
   ]
  },
  {
   "cell_type": "code",
   "execution_count": null,
   "metadata": {},
   "outputs": [],
   "source": [
    "# Since the there is only one unit, drop the current 'Unit' column and add a new one\n",
    "columns_to_delete = [\"Unit\",\"PowerCode\"]\n",
    "df.drop(columns=columns_to_delete, inplace = True)\n",
    "dataframeManager.simple_column_insert(df,ColumnName.UNIT.value,\"10^9 passenger-km / yr\")\n",
    "\n",
    "# Transforming the current value in Million to Billion (1M = 0.001B)\n",
    "for index, row in df.iterrows():\n",
    "    current_value = row.Value\n",
    "    new_value = current_value * float(0.001)\n",
    "    df.Value[index] = new_value\n",
    "    \n",
    "df"
   ]
  },
  {
   "cell_type": "markdown",
   "metadata": {},
   "source": [
    "# Managing the 'Variable' column\n",
    "### Rule: To comply with the current template we are setting the correct value that pertains to passenger related activities."
   ]
  },
  {
   "cell_type": "code",
   "execution_count": null,
   "metadata": {},
   "outputs": [],
   "source": [
    "# Since all variables available are related to passenger activity then drop the current column and add the correct on\n",
    "columns_to_delete = [\"Variable\"]\n",
    "df.drop(columns=columns_to_delete, inplace = True)\n",
    "dataframeManager.simple_column_insert(df,ColumnName.VARIABLE.value,\"Passenger Activity\")\n",
    "df"
   ]
  },
  {
   "cell_type": "markdown",
   "metadata": {},
   "source": [
    "# Adding the ISO value to each country\n",
    "    Rule: For each country we need to assign their respective ISO code"
   ]
  },
  {
   "cell_type": "markdown",
   "metadata": {},
   "source": [
    "## Determining which countries do not have an ISO code\n",
    "    As seen from the code below, four countries appear to not have ISO code. However, the reason is because the countries are written in a format that is not understandable. So, this is how each those \"missing\" countries will be called in order to obtain their ISO code\n",
    "    \n",
    "    Original Name --> New name\n",
    "        > Montenegro, Republic of --> Montenegro\n",
    "        > Bosnia-Herzegovina --> Bosnia and Herzegovina\n",
    "        > Korea --> Korea, Republic of\n",
    "        > Serbia, Republic of --> Serbia"
   ]
  },
  {
   "cell_type": "code",
   "execution_count": null,
   "metadata": {},
   "outputs": [],
   "source": [
    "# Getting the list of countries available\n",
    "list_of_countries = list(set(df[\"Country\"]))\n",
    "\n",
    "# Getting the list of countries with no ISO code\n",
    "countries_with_no_ISO_code = countryCodeManager.get_list_of_countries_with_no_iso_code(list_of_countries)\n",
    "        \n",
    "# Print this list of countries with no ISO codes\n",
    "countries_with_no_ISO_code"
   ]
  },
  {
   "cell_type": "markdown",
   "metadata": {},
   "source": [
    "## Adding the ISO column to the dataset"
   ]
  },
  {
   "cell_type": "code",
   "execution_count": null,
   "metadata": {},
   "outputs": [],
   "source": [
    "dirty_list_of_all_countries = df[\"Country\"]\n",
    "clean_list_of_all_countries = []\n",
    "\n",
    "for country in dirty_list_of_all_countries:\n",
    "    if country == \"Montenegro, Republic of\":\n",
    "        clean_list_of_all_countries.append(\"Montenegro\")\n",
    "    elif country == \"Bosnia-Herzegovina\":\n",
    "        clean_list_of_all_countries.append(\"Bosnia and Herzegovina\")\n",
    "    elif country == \"Korea\":\n",
    "        clean_list_of_all_countries.append(\"Korea, Republic of\")\n",
    "    elif country == \"Serbia, Republic of\":\n",
    "        clean_list_of_all_countries.append(\"Serbia\")\n",
    "    else:\n",
    "        clean_list_of_all_countries.append(country)\n",
    "\n",
    "# Ensure the size of the cleaned list is the same as the dirty list\n",
    "assert len(clean_list_of_all_countries) == len(dirty_list_of_all_countries)\n",
    "\n",
    "# Assert that for all elements in the new list, no country is left without an ISO code\n",
    "assert len(countryCodeManager.get_list_of_countries_with_no_iso_code(clean_list_of_all_countries)) == 0\n",
    "\n",
    "# Getting the list of iso codes\n",
    "list_of_iso_codes = countryCodeManager.get_list_of_iso_for_countries(clean_list_of_all_countries)\n",
    "\n",
    "# Adding the column to the dataframe\n",
    "df[ColumnName.ISO_CODE.value] = list_of_iso_codes\n",
    "df"
   ]
  },
  {
   "cell_type": "markdown",
   "metadata": {},
   "source": [
    "# Getting the ITEM Region for each country\n",
    "    Rule: For each country, we need to specify the ITEM region it belongs to"
   ]
  },
  {
   "cell_type": "markdown",
   "metadata": {},
   "source": [
    "## Determining which countries are missing an ITEM Region\n",
    "    As seen below, all countries belong to a region. Therefore, no special processing needs to be done."
   ]
  },
  {
   "cell_type": "code",
   "execution_count": null,
   "metadata": {},
   "outputs": [],
   "source": [
    "# Getting the list of ISO codes\n",
    "list_of_iso_codes = list(set(df[\"ISO Code\"]))\n",
    "\n",
    "# Getting the list of ISO code with no region\n",
    "iso_code_with_no_region = countryCodeManager.get_list_of_iso_codes_with_no_region(list_of_iso_codes)\n",
    "\n",
    "# printing the list of ISO codes\n",
    "iso_code_with_no_region"
   ]
  },
  {
   "cell_type": "markdown",
   "metadata": {},
   "source": [
    "## Adding the ITEM region column to the dataset"
   ]
  },
  {
   "cell_type": "code",
   "execution_count": null,
   "metadata": {},
   "outputs": [],
   "source": [
    "# Getting the complete list of iso codes\n",
    "list_of_all_codes = df[\"ISO Code\"]\n",
    "\n",
    "item_region = countryCodeManager.get_list_of_regions_for_iso_codes(list_of_all_codes)\n",
    "\n",
    "# Adding the column to the dataframe\n",
    "df[ColumnName.ITEM_REGION.value] = item_region\n",
    "df"
   ]
  },
  {
   "cell_type": "markdown",
   "metadata": {},
   "source": [
    "# Reordering the columns positions\n",
    "### Rule: The order of the columns is based on the order stated in the current template"
   ]
  },
  {
   "cell_type": "code",
   "execution_count": null,
   "metadata": {},
   "outputs": [],
   "source": [
    "df = dataframeManager.reorder_columns(df)\n",
    "df"
   ]
  },
  {
   "cell_type": "markdown",
   "metadata": {},
   "source": [
    "# Exporting the results"
   ]
  },
  {
   "cell_type": "code",
   "execution_count": 62,
   "metadata": {},
   "outputs": [
    {
     "name": "stdout",
     "output_type": "stream",
     "text": [
      "> PF File saved at: /Users/hlinero/Documents/database/item/historical/scripts\n",
      "> UF File saved at: /Users/hlinero/Documents/database/item/historical/scripts\n"
     ]
    }
   ],
   "source": [
    "# Programming Friendly View\n",
    "dataframeManager.create_programming_friendly_file(df)\n",
    "\n",
    "# User Friendly View\n",
    "dataframeManager.create_user_friendly_file(df)"
   ]
  },
  {
   "cell_type": "markdown",
   "metadata": {},
   "source": [
    "# Final Note\n",
    "\n",
    "### After analysing the final data result, we discovered that the values presented for India are not accurate. The argument is that India is not the country with the largest PKT."
   ]
  }
 ],
 "metadata": {
  "kernelspec": {
   "display_name": "item",
   "language": "python",
   "name": "item"
  },
  "language_info": {
   "codemirror_mode": {
    "name": "ipython",
    "version": 3
   },
   "file_extension": ".py",
   "mimetype": "text/x-python",
   "name": "python",
   "nbconvert_exporter": "python",
   "pygments_lexer": "ipython3",
   "version": "3.7.0"
  }
 },
 "nbformat": 4,
 "nbformat_minor": 2
}
