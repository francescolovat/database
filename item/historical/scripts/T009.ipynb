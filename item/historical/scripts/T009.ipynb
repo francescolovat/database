{
 "cells": [
  {
   "cell_type": "code",
   "execution_count": 1,
   "metadata": {},
   "outputs": [],
   "source": [
    "import pandas as pd\n",
    "import json\n",
    "from pprint import pprint\n",
    "from util.managers.DataframeManager import DataframeManager\n",
    "from util.managers.DataframeManager import ColumnName\n",
    "from util.managers.CountryCodeManager import CountryCodeManager\n",
    "from util.managers.UnitConverterManager import UnitConverterManager"
   ]
  },
  {
   "cell_type": "markdown",
   "metadata": {},
   "source": [
    "# Variables used across the noteboook and not changed"
   ]
  },
  {
   "cell_type": "code",
   "execution_count": 2,
   "metadata": {},
   "outputs": [],
   "source": [
    "DATASET_ID = \"T009\"\n",
    "dataframeManager = DataframeManager(DATASET_ID)\n",
    "countryCodeManager = CountryCodeManager()"
   ]
  },
  {
   "cell_type": "code",
   "execution_count": null,
   "metadata": {},
   "outputs": [],
   "source": []
  }
 ],
 "metadata": {
  "kernelspec": {
   "display_name": "item",
   "language": "python",
   "name": "item"
  },
  "language_info": {
   "codemirror_mode": {
    "name": "ipython",
    "version": 3
   },
   "file_extension": ".py",
   "mimetype": "text/x-python",
   "name": "python",
   "nbconvert_exporter": "python",
   "pygments_lexer": "ipython3",
   "version": "3.7.0"
  }
 },
 "nbformat": 4,
 "nbformat_minor": 2
}
